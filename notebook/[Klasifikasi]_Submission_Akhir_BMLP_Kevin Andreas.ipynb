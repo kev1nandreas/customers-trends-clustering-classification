{
  "cells": [
    {
      "cell_type": "markdown",
      "metadata": {
        "id": "fKADPWcFKlj3"
      },
      "source": [
        "# **1. Import Library**"
      ]
    },
    {
      "cell_type": "markdown",
      "metadata": {
        "id": "LgA3ERnVn84N"
      },
      "source": [
        "Pada tahap ini, Anda perlu mengimpor beberapa pustaka (library) Python yang dibutuhkan untuk analisis data dan pembangunan model machine learning."
      ]
    },
    {
      "cell_type": "code",
      "execution_count": 10,
      "metadata": {
        "id": "BlmvjLY9M4Yj"
      },
      "outputs": [],
      "source": [
        "import pandas as pd\n",
        "import numpy as np\n",
        "import seaborn as sns\n",
        "import matplotlib.pyplot as plt\n",
        "from sklearn.model_selection import train_test_split\n",
        "from sklearn.preprocessing import LabelEncoder, StandardScaler\n",
        "from sklearn.neighbors import KNeighborsClassifier\n",
        "from sklearn.tree import DecisionTreeClassifier\n",
        "from sklearn.ensemble import RandomForestClassifier\n",
        "from sklearn.svm import SVC\n",
        "from sklearn.naive_bayes import GaussianNB\n",
        "from sklearn.metrics import confusion_matrix, accuracy_score, precision_score, recall_score, f1_score"
      ]
    },
    {
      "cell_type": "markdown",
      "metadata": {
        "id": "f3YIEnAFKrKL"
      },
      "source": [
        "# **2. Memuat Dataset dari Hasil Clustering**"
      ]
    },
    {
      "cell_type": "markdown",
      "metadata": {
        "id": "Ey3ItwTen_7E"
      },
      "source": [
        "Memuat dataset hasil clustering dari file CSV ke dalam variabel DataFrame."
      ]
    },
    {
      "cell_type": "code",
      "execution_count": 11,
      "metadata": {
        "id": "GHCGNTyrM5fS"
      },
      "outputs": [
        {
          "data": {
            "text/html": [
              "<div>\n",
              "<style scoped>\n",
              "    .dataframe tbody tr th:only-of-type {\n",
              "        vertical-align: middle;\n",
              "    }\n",
              "\n",
              "    .dataframe tbody tr th {\n",
              "        vertical-align: top;\n",
              "    }\n",
              "\n",
              "    .dataframe thead th {\n",
              "        text-align: right;\n",
              "    }\n",
              "</style>\n",
              "<table border=\"1\" class=\"dataframe\">\n",
              "  <thead>\n",
              "    <tr style=\"text-align: right;\">\n",
              "      <th></th>\n",
              "      <th>Customer ID</th>\n",
              "      <th>Age</th>\n",
              "      <th>Gender</th>\n",
              "      <th>Item Purchased</th>\n",
              "      <th>Category</th>\n",
              "      <th>Purchase Amount (USD)</th>\n",
              "      <th>Location</th>\n",
              "      <th>Size</th>\n",
              "      <th>Color</th>\n",
              "      <th>Season</th>\n",
              "      <th>Review Rating</th>\n",
              "      <th>Subscription Status</th>\n",
              "      <th>Payment Method</th>\n",
              "      <th>Shipping Type</th>\n",
              "      <th>Discount Applied</th>\n",
              "      <th>Promo Code Used</th>\n",
              "      <th>Previous Purchases</th>\n",
              "      <th>Preferred Payment Method</th>\n",
              "      <th>Frequency of Purchases</th>\n",
              "      <th>Cluster</th>\n",
              "    </tr>\n",
              "  </thead>\n",
              "  <tbody>\n",
              "    <tr>\n",
              "      <th>0</th>\n",
              "      <td>1</td>\n",
              "      <td>55</td>\n",
              "      <td>Male</td>\n",
              "      <td>Blouse</td>\n",
              "      <td>Clothing</td>\n",
              "      <td>53</td>\n",
              "      <td>Kentucky</td>\n",
              "      <td>L</td>\n",
              "      <td>Gray</td>\n",
              "      <td>Winter</td>\n",
              "      <td>3.1</td>\n",
              "      <td>Yes</td>\n",
              "      <td>Credit Card</td>\n",
              "      <td>Express</td>\n",
              "      <td>Yes</td>\n",
              "      <td>Yes</td>\n",
              "      <td>14</td>\n",
              "      <td>Venmo</td>\n",
              "      <td>Fortnightly</td>\n",
              "      <td>4</td>\n",
              "    </tr>\n",
              "    <tr>\n",
              "      <th>1</th>\n",
              "      <td>2</td>\n",
              "      <td>19</td>\n",
              "      <td>Male</td>\n",
              "      <td>Sweater</td>\n",
              "      <td>Clothing</td>\n",
              "      <td>64</td>\n",
              "      <td>Maine</td>\n",
              "      <td>L</td>\n",
              "      <td>Maroon</td>\n",
              "      <td>Winter</td>\n",
              "      <td>3.1</td>\n",
              "      <td>Yes</td>\n",
              "      <td>Bank Transfer</td>\n",
              "      <td>Express</td>\n",
              "      <td>Yes</td>\n",
              "      <td>Yes</td>\n",
              "      <td>2</td>\n",
              "      <td>Cash</td>\n",
              "      <td>Fortnightly</td>\n",
              "      <td>2</td>\n",
              "    </tr>\n",
              "    <tr>\n",
              "      <th>2</th>\n",
              "      <td>3</td>\n",
              "      <td>50</td>\n",
              "      <td>Male</td>\n",
              "      <td>Jeans</td>\n",
              "      <td>Clothing</td>\n",
              "      <td>73</td>\n",
              "      <td>Massachusetts</td>\n",
              "      <td>S</td>\n",
              "      <td>Maroon</td>\n",
              "      <td>Spring</td>\n",
              "      <td>3.1</td>\n",
              "      <td>Yes</td>\n",
              "      <td>Cash</td>\n",
              "      <td>Free Shipping</td>\n",
              "      <td>Yes</td>\n",
              "      <td>Yes</td>\n",
              "      <td>23</td>\n",
              "      <td>Credit Card</td>\n",
              "      <td>Weekly</td>\n",
              "      <td>2</td>\n",
              "    </tr>\n",
              "    <tr>\n",
              "      <th>3</th>\n",
              "      <td>4</td>\n",
              "      <td>21</td>\n",
              "      <td>Male</td>\n",
              "      <td>Sandals</td>\n",
              "      <td>Footwear</td>\n",
              "      <td>90</td>\n",
              "      <td>Rhode Island</td>\n",
              "      <td>M</td>\n",
              "      <td>Maroon</td>\n",
              "      <td>Spring</td>\n",
              "      <td>3.5</td>\n",
              "      <td>Yes</td>\n",
              "      <td>PayPal</td>\n",
              "      <td>Next Day Air</td>\n",
              "      <td>Yes</td>\n",
              "      <td>Yes</td>\n",
              "      <td>49</td>\n",
              "      <td>PayPal</td>\n",
              "      <td>Weekly</td>\n",
              "      <td>2</td>\n",
              "    </tr>\n",
              "    <tr>\n",
              "      <th>4</th>\n",
              "      <td>5</td>\n",
              "      <td>45</td>\n",
              "      <td>Male</td>\n",
              "      <td>Blouse</td>\n",
              "      <td>Clothing</td>\n",
              "      <td>49</td>\n",
              "      <td>Oregon</td>\n",
              "      <td>M</td>\n",
              "      <td>Turquoise</td>\n",
              "      <td>Spring</td>\n",
              "      <td>2.7</td>\n",
              "      <td>Yes</td>\n",
              "      <td>Cash</td>\n",
              "      <td>Free Shipping</td>\n",
              "      <td>Yes</td>\n",
              "      <td>Yes</td>\n",
              "      <td>31</td>\n",
              "      <td>PayPal</td>\n",
              "      <td>Annually</td>\n",
              "      <td>4</td>\n",
              "    </tr>\n",
              "  </tbody>\n",
              "</table>\n",
              "</div>"
            ],
            "text/plain": [
              "   Customer ID  Age   Gender   Item Purchased      Category  \\\n",
              "0            1   55  Male     Blouse           Clothing       \n",
              "1            2   19  Male     Sweater          Clothing       \n",
              "2            3   50  Male     Jeans            Clothing       \n",
              "3            4   21  Male     Sandals          Footwear       \n",
              "4            5   45  Male     Blouse           Clothing       \n",
              "\n",
              "   Purchase Amount (USD)         Location   Size       Color   Season  \\\n",
              "0                     53  Kentucky         L      Gray        Winter    \n",
              "1                     64  Maine            L      Maroon      Winter    \n",
              "2                     73  Massachusetts    S      Maroon      Spring    \n",
              "3                     90  Rhode Island     M      Maroon      Spring    \n",
              "4                     49  Oregon           M      Turquoise   Spring    \n",
              "\n",
              "   Review Rating   Subscription Status   Payment Method    Shipping Type  \\\n",
              "0            3.1  Yes                   Credit Card      Express           \n",
              "1            3.1  Yes                   Bank Transfer    Express           \n",
              "2            3.1  Yes                   Cash             Free Shipping     \n",
              "3            3.5  Yes                   PayPal           Next Day Air      \n",
              "4            2.7  Yes                   Cash             Free Shipping     \n",
              "\n",
              "    Discount Applied   Promo Code Used  Previous Purchases  \\\n",
              "0  Yes                Yes                               14   \n",
              "1  Yes                Yes                                2   \n",
              "2  Yes                Yes                               23   \n",
              "3  Yes                Yes                               49   \n",
              "4  Yes                Yes                               31   \n",
              "\n",
              "    Preferred Payment Method Frequency of Purchases  Cluster  \n",
              "0  Venmo                                Fortnightly        4  \n",
              "1  Cash                                 Fortnightly        2  \n",
              "2  Credit Card                               Weekly        2  \n",
              "3  PayPal                                    Weekly        2  \n",
              "4  PayPal                                  Annually        4  "
            ]
          },
          "execution_count": 11,
          "metadata": {},
          "output_type": "execute_result"
        }
      ],
      "source": [
        "df = pd.read_csv('../data/labeled/customers_segmented.csv')\n",
        "\n",
        "df.head()"
      ]
    },
    {
      "cell_type": "markdown",
      "metadata": {
        "id": "KkPem5eWL2UP"
      },
      "source": [
        "# **3. Data Splitting**"
      ]
    },
    {
      "cell_type": "markdown",
      "metadata": {
        "id": "YYj1rl_JNI9Y"
      },
      "source": [
        "Tahap Data Splitting bertujuan untuk memisahkan dataset menjadi dua bagian: data latih (training set) dan data uji (test set)."
      ]
    },
    {
      "cell_type": "code",
      "execution_count": 12,
      "metadata": {
        "id": "OubAW-7ONKVj"
      },
      "outputs": [],
      "source": [
        "X = df.drop('Cluster', axis=1)\n",
        "y = df['Cluster']\n",
        "\n",
        "numerical = X.select_dtypes(include='number').columns\n",
        "categorical = X.select_dtypes(include='object').columns\n",
        "\n",
        "label_encoder = LabelEncoder()\n",
        "\n",
        "for col in categorical:\n",
        "    X[col] = label_encoder.fit_transform(X[col])\n",
        "\n",
        "scaler = StandardScaler()\n",
        "\n",
        "X[numerical] = scaler.fit_transform(X[numerical])\n",
        "\n",
        "X_train, X_test, y_train, y_test = train_test_split(X, y, test_size=0.2, random_state=42)"
      ]
    },
    {
      "cell_type": "markdown",
      "metadata": {},
      "source": [
        "Pada tahap ini, saya melakukan encoding data menggunakan `LabelEncoder` pada data-data kategorikal. Tujuannya agar data dapat dikenali oleh mesin nantinya. Saya juga melakukan standarisasi untuk data-data numerik."
      ]
    },
    {
      "cell_type": "markdown",
      "metadata": {
        "id": "IVPbB03CMhTT"
      },
      "source": [
        "# **4. Membangun Model Klasifikasi**\n"
      ]
    },
    {
      "cell_type": "markdown",
      "metadata": {
        "id": "Ned1pL9zMmBK"
      },
      "source": [
        "## **a. Membangun Model Klasifikasi**"
      ]
    },
    {
      "cell_type": "markdown",
      "metadata": {
        "id": "WAWzPOE4Nkti"
      },
      "source": [
        "Setelah memilih algoritma klasifikasi yang sesuai, langkah selanjutnya adalah melatih model menggunakan data latih.\n",
        "\n",
        "Berikut adalah rekomendasi tahapannya.\n",
        "1. Pilih algoritma klasifikasi yang sesuai, seperti Logistic Regression, Decision Tree, Random Forest, atau K-Nearest Neighbors (KNN).\n",
        "2. Latih model menggunakan data latih."
      ]
    },
    {
      "cell_type": "code",
      "execution_count": 13,
      "metadata": {
        "id": "4JYxBe87NLDk"
      },
      "outputs": [],
      "source": [
        "knn = KNeighborsClassifier().fit(X_train, y_train)\n",
        "dt = DecisionTreeClassifier().fit(X_train, y_train)\n",
        "rf = RandomForestClassifier().fit(X_train, y_train)\n",
        "svm = SVC().fit(X_train, y_train)\n",
        "nb = GaussianNB().fit(X_train, y_train)"
      ]
    },
    {
      "cell_type": "markdown",
      "metadata": {
        "id": "seYoHNY3XU1y"
      },
      "source": [
        "**K-Nearest Neighbors (KNN)** bekerja dengan mengklasifikasikan data berdasarkan label mayoritas dari tetangga terdekat dalam ruang fitur. Algoritma ini sederhana, tetapi sensitif terhadap jumlah tetangga (k) dan skala data.\n",
        "\n",
        "**Decision Tree (DT)** membuat pohon keputusan dengan membagi data secara rekursif berdasarkan fitur yang memberikan informasi paling berguna. Algoritma ini mudah diinterpretasikan tetapi rentan terhadap overfitting jika pohonnya terlalu kompleks.\n",
        "\n",
        "**Random Forest (RF)** adalah ensemble dari banyak pohon keputusan yang dilatih pada subset data. Dengan menggabungkan prediksi dari berbagai pohon, RF lebih stabil dan mengurangi risiko overfitting dibandingkan DT.\n",
        "\n",
        "**Support Vector Machine (SVM)** menemukan hyperplane terbaik untuk memisahkan kelas data dengan margin terbesar. SVM efektif untuk data berdimensi tinggi tetapi sensitif terhadap parameter dan kernel yang digunakan.\n",
        "\n",
        "**Naive Bayes (NB)** mengasumsikan independensi antar fitur dan menghitung probabilitas kelas berdasarkan distribusi data. Meski sederhana, NB sangat cepat dan efektif untuk data teks atau kategori."
      ]
    },
    {
      "cell_type": "markdown",
      "metadata": {
        "id": "ergzChZFEL-O"
      },
      "source": [
        "## **b. Evaluasi Model Klasifikasi**"
      ]
    },
    {
      "cell_type": "markdown",
      "metadata": {
        "id": "zOm68u-7NpLT"
      },
      "source": [
        "Berikut adalah **rekomendasi** tahapannya.\n",
        "1. Lakukan prediksi menggunakan data uji.\n",
        "2. Hitung metrik evaluasi seperti Accuracy dan F1-Score (Opsional: Precision dan Recall).\n",
        "3. Buat confusion matrix untuk melihat detail prediksi benar dan salah."
      ]
    },
    {
      "cell_type": "code",
      "execution_count": 34,
      "metadata": {},
      "outputs": [
        {
          "data": {
            "image/png": "[encoded data removed]",
            "text/plain": [
              "<Figure size 900x600 with 5 Axes>"
            ]
          },
          "metadata": {},
          "output_type": "display_data"
        },
        {
          "data": {
            "text/html": [
              "<div>\n",
              "<style scoped>\n",
              "    .dataframe tbody tr th:only-of-type {\n",
              "        vertical-align: middle;\n",
              "    }\n",
              "\n",
              "    .dataframe tbody tr th {\n",
              "        vertical-align: top;\n",
              "    }\n",
              "\n",
              "    .dataframe thead th {\n",
              "        text-align: right;\n",
              "    }\n",
              "</style>\n",
              "<table border=\"1\" class=\"dataframe\">\n",
              "  <thead>\n",
              "    <tr style=\"text-align: right;\">\n",
              "      <th></th>\n",
              "      <th>Algorithm</th>\n",
              "      <th>Accuracy</th>\n",
              "      <th>Precision</th>\n",
              "      <th>Recall</th>\n",
              "      <th>F1</th>\n",
              "    </tr>\n",
              "  </thead>\n",
              "  <tbody>\n",
              "    <tr>\n",
              "      <th>0</th>\n",
              "      <td>knn</td>\n",
              "      <td>0.595833</td>\n",
              "      <td>0.617692</td>\n",
              "      <td>0.595833</td>\n",
              "      <td>0.591112</td>\n",
              "    </tr>\n",
              "    <tr>\n",
              "      <th>1</th>\n",
              "      <td>dt</td>\n",
              "      <td>1.000000</td>\n",
              "      <td>1.000000</td>\n",
              "      <td>1.000000</td>\n",
              "      <td>1.000000</td>\n",
              "    </tr>\n",
              "    <tr>\n",
              "      <th>2</th>\n",
              "      <td>rf</td>\n",
              "      <td>1.000000</td>\n",
              "      <td>1.000000</td>\n",
              "      <td>1.000000</td>\n",
              "      <td>1.000000</td>\n",
              "    </tr>\n",
              "    <tr>\n",
              "      <th>3</th>\n",
              "      <td>svm</td>\n",
              "      <td>0.906090</td>\n",
              "      <td>0.909478</td>\n",
              "      <td>0.906090</td>\n",
              "      <td>0.906209</td>\n",
              "    </tr>\n",
              "    <tr>\n",
              "      <th>4</th>\n",
              "      <td>nb</td>\n",
              "      <td>0.994872</td>\n",
              "      <td>0.994919</td>\n",
              "      <td>0.994872</td>\n",
              "      <td>0.994878</td>\n",
              "    </tr>\n",
              "  </tbody>\n",
              "</table>\n",
              "</div>"
            ],
            "text/plain": [
              "  Algorithm  Accuracy  Precision    Recall        F1\n",
              "0       knn  0.595833   0.617692  0.595833  0.591112\n",
              "1        dt  1.000000   1.000000  1.000000  1.000000\n",
              "2        rf  1.000000   1.000000  1.000000  1.000000\n",
              "3       svm  0.906090   0.909478  0.906090  0.906209\n",
              "4        nb  0.994872   0.994919  0.994872  0.994878"
            ]
          },
          "execution_count": 34,
          "metadata": {},
          "output_type": "execute_result"
        }
      ],
      "source": [
        "y_train_pred_knn = knn.predict(X_train)\n",
        "y_train_pred_dt = dt.predict(X_train)\n",
        "y_train_pred_rf = rf.predict(X_train)\n",
        "y_train_pred_svm = svm.predict(X_train)\n",
        "y_train_pred_nb = nb.predict(X_train)\n",
        "\n",
        "algorithms = ['knn', 'dt', 'rf', 'svm', 'nb']\n",
        "result = []\n",
        "\n",
        "fig, ax = plt.subplots(2, 3, figsize=(9, 6))\n",
        "\n",
        "for i, algorithm in enumerate(algorithms):\n",
        "    y_pred = locals()[f'y_train_pred_{algorithm}']\n",
        "    accuracy = accuracy_score(y_train, y_pred)\n",
        "    precision = precision_score(y_train, y_pred, average='weighted')\n",
        "    recall = recall_score(y_train, y_pred, average='weighted')\n",
        "    f1 = f1_score(y_train, y_pred, average='weighted')\n",
        "    \n",
        "    cm = confusion_matrix(y_train, y_pred)\n",
        "    sns.heatmap(cm, annot=True, fmt='d', cmap='Blues', cbar=False, ax=ax[i//3, i%3])\n",
        "    ax[i//3, i%3].set_title(algorithm)\n",
        "    result.append([algorithm, accuracy, precision, recall, f1])\n",
        "\n",
        "fig.delaxes(ax[1, 2])\n",
        "plt.tight_layout()\n",
        "plt.show()\n",
        "result_train_df = pd.DataFrame(result, columns=['Algorithm', 'Accuracy', 'Precision', 'Recall', 'F1'])\n",
        "\n",
        "result_train_df"
      ]
    },
    {
      "cell_type": "code",
      "execution_count": 35,
      "metadata": {
        "id": "tMq4QAssNLip"
      },
      "outputs": [
        {
          "data": {
            "image/png": "[encoded data removed]",
            "text/plain": [
              "<Figure size 900x600 with 5 Axes>"
            ]
          },
          "metadata": {},
          "output_type": "display_data"
        },
        {
          "data": {
            "text/html": [
              "<div>\n",
              "<style scoped>\n",
              "    .dataframe tbody tr th:only-of-type {\n",
              "        vertical-align: middle;\n",
              "    }\n",
              "\n",
              "    .dataframe tbody tr th {\n",
              "        vertical-align: top;\n",
              "    }\n",
              "\n",
              "    .dataframe thead th {\n",
              "        text-align: right;\n",
              "    }\n",
              "</style>\n",
              "<table border=\"1\" class=\"dataframe\">\n",
              "  <thead>\n",
              "    <tr style=\"text-align: right;\">\n",
              "      <th></th>\n",
              "      <th>Algorithm</th>\n",
              "      <th>Accuracy</th>\n",
              "      <th>Precision</th>\n",
              "      <th>Recall</th>\n",
              "      <th>F1</th>\n",
              "    </tr>\n",
              "  </thead>\n",
              "  <tbody>\n",
              "    <tr>\n",
              "      <th>0</th>\n",
              "      <td>knn</td>\n",
              "      <td>0.344872</td>\n",
              "      <td>0.370234</td>\n",
              "      <td>0.344872</td>\n",
              "      <td>0.337435</td>\n",
              "    </tr>\n",
              "    <tr>\n",
              "      <th>1</th>\n",
              "      <td>dt</td>\n",
              "      <td>1.000000</td>\n",
              "      <td>1.000000</td>\n",
              "      <td>1.000000</td>\n",
              "      <td>1.000000</td>\n",
              "    </tr>\n",
              "    <tr>\n",
              "      <th>2</th>\n",
              "      <td>rf</td>\n",
              "      <td>1.000000</td>\n",
              "      <td>1.000000</td>\n",
              "      <td>1.000000</td>\n",
              "      <td>1.000000</td>\n",
              "    </tr>\n",
              "    <tr>\n",
              "      <th>3</th>\n",
              "      <td>svm</td>\n",
              "      <td>0.873077</td>\n",
              "      <td>0.881897</td>\n",
              "      <td>0.873077</td>\n",
              "      <td>0.873811</td>\n",
              "    </tr>\n",
              "    <tr>\n",
              "      <th>4</th>\n",
              "      <td>nb</td>\n",
              "      <td>0.989744</td>\n",
              "      <td>0.989891</td>\n",
              "      <td>0.989744</td>\n",
              "      <td>0.989756</td>\n",
              "    </tr>\n",
              "  </tbody>\n",
              "</table>\n",
              "</div>"
            ],
            "text/plain": [
              "  Algorithm  Accuracy  Precision    Recall        F1\n",
              "0       knn  0.344872   0.370234  0.344872  0.337435\n",
              "1        dt  1.000000   1.000000  1.000000  1.000000\n",
              "2        rf  1.000000   1.000000  1.000000  1.000000\n",
              "3       svm  0.873077   0.881897  0.873077  0.873811\n",
              "4        nb  0.989744   0.989891  0.989744  0.989756"
            ]
          },
          "execution_count": 35,
          "metadata": {},
          "output_type": "execute_result"
        }
      ],
      "source": [
        "y_pred_knn = knn.predict(X_test)\n",
        "y_pred_dt = dt.predict(X_test)\n",
        "y_pred_rf = rf.predict(X_test)\n",
        "y_pred_svm = svm.predict(X_test)\n",
        "y_pred_nb = nb.predict(X_test)\n",
        "\n",
        "algorithms = ['knn', 'dt', 'rf', 'svm', 'nb']\n",
        "result = []\n",
        "\n",
        "fig, ax = plt.subplots(2, 3, figsize=(9, 6))\n",
        "\n",
        "for i, algorithm in enumerate(algorithms):\n",
        "    y_pred = locals()[f'y_pred_{algorithm}']\n",
        "    accuracy = accuracy_score(y_test, y_pred)\n",
        "    precision = precision_score(y_test, y_pred, average='weighted')\n",
        "    recall = recall_score(y_test, y_pred, average='weighted')\n",
        "    f1 = f1_score(y_test, y_pred, average='weighted')\n",
        "    \n",
        "    cm = confusion_matrix(y_test, y_pred)\n",
        "    sns.heatmap(cm, annot=True, fmt='d', cmap='Blues', cbar=False, ax=ax[i//3, i%3])\n",
        "    ax[i//3, i%3].set_title(algorithm)\n",
        "    result.append([algorithm, accuracy, precision, recall, f1])\n",
        "\n",
        "fig.delaxes(ax[1, 2])\n",
        "plt.tight_layout()\n",
        "plt.show()\n",
        "\n",
        "result_test_df = pd.DataFrame(result, columns=['Algorithm', 'Accuracy', 'Precision', 'Recall', 'F1'])\n",
        "\n",
        "result_test_df"
      ]
    },
    {
      "cell_type": "markdown",
      "metadata": {
        "id": "H4_9OwrsXZlz"
      },
      "source": [
        "Tulis hasil evaluasi algoritma yang digunakan, jika Anda menggunakan 2 algoritma, maka bandingkan hasilnya."
      ]
    },
    {
      "cell_type": "markdown",
      "metadata": {
        "id": "ph9yIYDXEPuB"
      },
      "source": [
        "## **c. Tuning Model Klasifikasi (Optional)**"
      ]
    },
    {
      "cell_type": "markdown",
      "metadata": {
        "id": "-Bikx3LINv5e"
      },
      "source": [
        "Gunakan GridSearchCV, RandomizedSearchCV, atau metode lainnya untuk mencari kombinasi hyperparameter terbaik"
      ]
    },
    {
      "cell_type": "code",
      "execution_count": 16,
      "metadata": {
        "id": "winbFzb8NL95"
      },
      "outputs": [
        {
          "name": "stdout",
          "output_type": "stream",
          "text": [
            "Fitting 3 folds for each of 54 candidates, totalling 162 fits\n",
            "Best parameters (Grid Search): {'criterion': 'gini', 'max_depth': 10, 'min_samples_split': 2, 'n_estimators': 100}\n"
          ]
        }
      ],
      "source": [
        "from sklearn.model_selection import GridSearchCV\n",
        " \n",
        "param_grid = {\n",
        "    'n_estimators': [100, 200, 300],\n",
        "    'max_depth': [10, 20, 30],\n",
        "    'min_samples_split': [2, 5, 10],\n",
        "    'criterion': ['gini', 'entropy']\n",
        "}\n",
        " \n",
        "grid_search = GridSearchCV(estimator=rf, param_grid=param_grid, cv=3, n_jobs=-1, verbose=2)\n",
        "grid_search.fit(X_train, y_train)\n",
        " \n",
        "print(f\"Best parameters (Grid Search): {grid_search.best_params_}\")"
      ]
    },
    {
      "cell_type": "markdown",
      "metadata": {
        "id": "hE7pqlEPEYzI"
      },
      "source": [
        "## **d. Evaluasi Model Klasifikasi setelah Tuning (Optional)**"
      ]
    },
    {
      "cell_type": "markdown",
      "metadata": {
        "id": "feaPESoeN0zz"
      },
      "source": [
        "Berikut adalah rekomendasi tahapannya.\n",
        "1. Gunakan model dengan hyperparameter terbaik.\n",
        "2. Hitung ulang metrik evaluasi untuk melihat apakah ada peningkatan performa."
      ]
    },
    {
      "cell_type": "code",
      "execution_count": 17,
      "metadata": {
        "id": "HTXZRvEeNMb1"
      },
      "outputs": [
        {
          "name": "stdout",
          "output_type": "stream",
          "text": [
            "Accuracy (Grid Search): 1.0\n"
          ]
        }
      ],
      "source": [
        "best_rf_grid = grid_search.best_estimator_\n",
        "y_pred_rf_grid = best_rf_grid.predict(X_test)\n",
        "\n",
        "print(f\"Accuracy (Grid Search): {accuracy_score(y_test, y_pred_rf_grid)}\")"
      ]
    },
    {
      "cell_type": "markdown",
      "metadata": {},
      "source": [
        "Terlihat bahwa performa tidak mengalami perubahan dan masih sama dengan sebelum dilakukan hyperparameter tuning."
      ]
    },
    {
      "cell_type": "code",
      "execution_count": 19,
      "metadata": {},
      "outputs": [
        {
          "data": {
            "text/plain": [
              "['../model/rf_model.pkl']"
            ]
          },
          "execution_count": 19,
          "metadata": {},
          "output_type": "execute_result"
        }
      ],
      "source": [
        "import joblib\n",
        "\n",
        "joblib.dump(best_rf_grid, '../model/rf_model.pkl')"
      ]
    },
    {
      "cell_type": "markdown",
      "metadata": {},
      "source": [
        "Saya kemudian menyimpan model yang terpilih menggunakan joblib agar mudah jika ingin digunakan kembali."
      ]
    },
    {
      "cell_type": "markdown",
      "metadata": {
        "id": "ZRsOdm4uEgAW"
      },
      "source": [
        "## **e. Analisis Hasil Evaluasi Model Klasifikasi**"
      ]
    },
    {
      "cell_type": "markdown",
      "metadata": {},
      "source": [
        "**1. Perbandingan Hasil Evaluasi:**\n",
        "- Decision Tree (DT) dan Random Forest (RF) memiliki **performa sempurna** di training dan testing set.\n",
        "- KNN dan SVM menunjukkan penurunan signifikan pada testing set, mengindikasikan masalah overfitting.\n",
        "- Pada tahap selanjutnya saya menggunakan Random Forest untuk melakukan klasifikasi ini.\n",
        "\n",
        "**2. Kelemahan Model:**\n",
        "- Mengamati dari nilai sempurna pada Random Forest (dan Decision Tree), model ini kemungkinan mengalami overfitting.\n",
        "\n",
        "**3. Rekomendasi**\n",
        "- Kumpulkan data tambahan untuk memperbaiki generalisasi.\n",
        "- Tuning hyperparameter untuk KNN, SVM, dan DT.\n",
        "- Gunakan cross-validation untuk verifikasi model.\n",
        "- Menerapkan pruning pada DT dan regularization pada RF untuk mengurangi overfitting."
      ]
    }
  ],
  "metadata": {
    "colab": {
      "provenance": []
    },
    "kernelspec": {
      "display_name": "base",
      "language": "python",
      "name": "python3"
    },
    "language_info": {
      "codemirror_mode": {
        "name": "ipython",
        "version": 3
      },
      "file_extension": ".py",
      "mimetype": "text/x-python",
      "name": "python",
      "nbconvert_exporter": "python",
      "pygments_lexer": "ipython3",
      "version": "3.12.7"
    }
  },
  "nbformat": 4,
  "nbformat_minor": 0
}
